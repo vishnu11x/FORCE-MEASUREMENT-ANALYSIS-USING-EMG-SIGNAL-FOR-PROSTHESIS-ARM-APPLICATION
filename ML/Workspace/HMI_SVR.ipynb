{
 "cells": [
  {
   "cell_type": "markdown",
   "id": "fac4cdae-b459-4d0c-8a78-b4aaff181ae9",
   "metadata": {},
   "source": [
    "#  Import libaries"
   ]
  },
  {
   "cell_type": "code",
   "execution_count": 3,
   "id": "b376699c-f2c2-4d77-982f-da63110f9338",
   "metadata": {},
   "outputs": [],
   "source": [
    "import pandas as pd\n",
    "import matplotlib.pyplot as plt\n",
    "import sklearn\n",
    "import numpy as np\n",
    "from sklearn.svm import SVR\n",
    "from sklearn.model_selection import train_test_split\n",
    "from sklearn.preprocessing import StandardScaler\n",
    "from sklearn.metrics import r2_score, mean_absolute_error, mean_squared_error\n"
   ]
  },
  {
   "cell_type": "markdown",
   "id": "13975383",
   "metadata": {},
   "source": [
    "# Load Dataset"
   ]
  },
  {
   "cell_type": "code",
   "execution_count": 4,
   "id": "b95e93cf",
   "metadata": {},
   "outputs": [
    {
     "name": "stdout",
     "output_type": "stream",
     "text": [
      "0        0.801318\n",
      "1        0.291351\n",
      "2        1.159545\n",
      "3        0.917972\n",
      "4        0.801318\n",
      "           ...   \n",
      "51673    0.280378\n",
      "51674    0.801318\n",
      "51675    0.801318\n",
      "51676    0.801318\n",
      "51677    0.801318\n",
      "Name: Force/Output, Length: 51678, dtype: float64\n",
      "Original dataset shape: (51678, 8)\n",
      "No outliers dataset shape: (51311, 8)\n"
     ]
    }
   ],
   "source": [
    "dataset = pd.read_csv(r\"D:\\PROJECTS\\Git\\HMI_MODEL_PROTHESIS_ARM\\Signals\\dataset.csv\")\n",
    "\n",
    "data= dataset.sample(frac=1, random_state=42).reset_index(drop=True)\n",
    "\n",
    "mean = data['Force/Output'].mean()\n",
    "std_dev = data['Force/Output'].std()\n",
    "z_scores = np.abs((data['Force/Output'] - mean) / std_dev)\n",
    "print(z_scores)\n",
    "\n",
    "\n",
    "# Define a threshold for identifying outliers\n",
    "threshold = 3  \n",
    "\n",
    "# Identify outliers\n",
    "outliers = (z_scores > threshold) | (z_scores < -threshold)\n",
    "\n",
    "# Remove outliers\n",
    "data_outl = data[~outliers]\n",
    "\n",
    "# Show the results\n",
    "print(\"Original dataset shape:\", data.shape)\n",
    "print(\"No outliers dataset shape:\", data_outl.shape)\n"
   ]
  },
  {
   "cell_type": "markdown",
   "id": "2fd3876e",
   "metadata": {},
   "source": [
    "# Extract features and target"
   ]
  },
  {
   "cell_type": "code",
   "execution_count": 5,
   "id": "ab4af211",
   "metadata": {},
   "outputs": [],
   "source": [
    "# Load your dataset\n",
    "x = data_outl[['Ch1_RMS', 'Ch1_MAV', 'Ch1_ZC', 'Ch2_RMS', 'Ch2_MAV', 'Ch2_ZC','Label']]\n",
    "y = data_outl['Force/Output']\n",
    "\n",
    "# Split dataset\n",
    "x_train, x_test, y_train, y_test = train_test_split(x, y, test_size=0.2, random_state=42)\n",
    "\n",
    "# Normalize data\n",
    "scale = StandardScaler()\n",
    "x_train = scale.fit_transform(x_train)\n",
    "x_test = scale.transform(x_test)"
   ]
  },
  {
   "cell_type": "markdown",
   "id": "af5a6d29",
   "metadata": {},
   "source": [
    "# Train"
   ]
  },
  {
   "cell_type": "code",
   "execution_count": 21,
   "id": "553a0a7b",
   "metadata": {},
   "outputs": [],
   "source": [
    "# Initialize and train the SVR model\n",
    "svr = SVR(kernel='rbf', C= 76.63707, epsilon=1, gamma= 'auto')\n",
    "svr.fit(x_train, y_train)\n",
    "\n",
    "# Make predictions on the test data\n",
    "y_pred = svr.predict(x_test)\n"
   ]
  },
  {
   "cell_type": "code",
   "execution_count": 22,
   "id": "373d5332",
   "metadata": {},
   "outputs": [
    {
     "name": "stdout",
     "output_type": "stream",
     "text": [
      "R² Score: 0.7317031330291938\n",
      "Mean Squared Error: 6.485527137394632\n",
      "Mean Absolute Error: 1.6730172679351394\n"
     ]
    }
   ],
   "source": [
    "# Calculate metrics\n",
    "r2 = r2_score(y_test, y_pred)\n",
    "mse = mean_squared_error(y_test, y_pred)\n",
    "mae = mean_absolute_error(y_test, y_pred)\n",
    "\n",
    "# Output results\n",
    "print(f\"R² Score: {r2}\")\n",
    "print(f\"Mean Squared Error: {mse}\")\n",
    "print(f\"Mean Absolute Error: {mae}\")"
   ]
  }
 ],
 "metadata": {
  "kernelspec": {
   "display_name": "Python 3",
   "language": "python",
   "name": "python3"
  },
  "language_info": {
   "codemirror_mode": {
    "name": "ipython",
    "version": 3
   },
   "file_extension": ".py",
   "mimetype": "text/x-python",
   "name": "python",
   "nbconvert_exporter": "python",
   "pygments_lexer": "ipython3",
   "version": "3.12.7"
  }
 },
 "nbformat": 4,
 "nbformat_minor": 5
}
