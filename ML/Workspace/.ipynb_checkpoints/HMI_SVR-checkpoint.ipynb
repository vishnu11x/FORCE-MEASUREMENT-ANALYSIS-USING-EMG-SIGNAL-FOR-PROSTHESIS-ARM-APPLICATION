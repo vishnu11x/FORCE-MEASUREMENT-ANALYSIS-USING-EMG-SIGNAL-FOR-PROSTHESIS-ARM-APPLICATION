{
 "cells": [
  {
   "cell_type": "markdown",
   "id": "fac4cdae-b459-4d0c-8a78-b4aaff181ae9",
   "metadata": {},
   "source": [
    "#  Import libaries"
   ]
  },
  {
   "cell_type": "code",
   "execution_count": null,
   "id": "b376699c-f2c2-4d77-982f-da63110f9338",
   "metadata": {},
   "outputs": [],
   "source": [
    "import pandas as pd\n",
    "import matplotlib.pyplot as plt\n",
    "import sklearn"
   ]
  }
 ],
 "metadata": {
  "kernelspec": {
   "display_name": "Python 3 (ipykernel)",
   "language": "python",
   "name": "python3"
  },
  "language_info": {
   "codemirror_mode": {
    "name": "ipython",
    "version": 3
   },
   "file_extension": ".py",
   "mimetype": "text/x-python",
   "name": "python",
   "nbconvert_exporter": "python",
   "pygments_lexer": "ipython3",
   "version": "3.12.7"
  }
 },
 "nbformat": 4,
 "nbformat_minor": 5
}
