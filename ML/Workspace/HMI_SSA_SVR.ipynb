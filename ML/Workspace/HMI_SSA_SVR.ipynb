{
 "cells": [
  {
   "cell_type": "markdown",
   "id": "fac4cdae-b459-4d0c-8a78-b4aaff181ae9",
   "metadata": {},
   "source": [
    "#  Import libaries"
   ]
  },
  {
   "cell_type": "code",
   "execution_count": 5,
   "id": "b376699c-f2c2-4d77-982f-da63110f9338",
   "metadata": {},
   "outputs": [],
   "source": [
    "import pandas as pd\n",
    "import matplotlib.pyplot as plt\n",
    "import sklearn\n",
    "import numpy as np\n",
    "from sklearn.svm import SVR\n",
    "from sklearn.model_selection import train_test_split\n",
    "from sklearn.preprocessing import StandardScaler\n",
    "from sklearn.metrics import r2_score, mean_absolute_error, mean_squared_error\n"
   ]
  },
  {
   "cell_type": "markdown",
   "id": "13975383",
   "metadata": {},
   "source": [
    "# Load Dataset"
   ]
  },
  {
   "cell_type": "code",
   "execution_count": 6,
   "id": "b95e93cf",
   "metadata": {},
   "outputs": [
    {
     "name": "stdout",
     "output_type": "stream",
     "text": [
      "0        0.801318\n",
      "1        0.291351\n",
      "2        1.159545\n",
      "3        0.917972\n",
      "4        0.801318\n",
      "           ...   \n",
      "51673    0.280378\n",
      "51674    0.801318\n",
      "51675    0.801318\n",
      "51676    0.801318\n",
      "51677    0.801318\n",
      "Name: Force/Output, Length: 51678, dtype: float64\n",
      "Original dataset shape: (51678, 8)\n",
      "No outliers dataset shape: (51311, 8)\n"
     ]
    }
   ],
   "source": [
    "dataset = pd.read_csv(r\"D:\\PROJECTS\\Git\\HMI_MODEL_PROTHESIS_ARM\\Signals\\dataset.csv\")\n",
    "\n",
    "data= dataset.sample(frac=1, random_state=42).reset_index(drop=True)\n",
    "\n",
    "mean = data['Force/Output'].mean()\n",
    "std_dev = data['Force/Output'].std()\n",
    "z_scores = np.abs((data['Force/Output'] - mean) / std_dev)\n",
    "print(z_scores)\n",
    "\n",
    "\n",
    "# Define a threshold for identifying outliers\n",
    "threshold = 3  \n",
    "\n",
    "# Identify outliers\n",
    "outliers = (z_scores > threshold) | (z_scores < -threshold)\n",
    "\n",
    "# Remove outliers\n",
    "data_outl = data[~outliers]\n",
    "\n",
    "# Show the results\n",
    "print(\"Original dataset shape:\", data.shape)\n",
    "print(\"No outliers dataset shape:\", data_outl.shape)\n"
   ]
  },
  {
   "cell_type": "markdown",
   "id": "2fd3876e",
   "metadata": {},
   "source": [
    "# Extract features and target"
   ]
  },
  {
   "cell_type": "code",
   "execution_count": 7,
   "id": "ab4af211",
   "metadata": {},
   "outputs": [],
   "source": [
    "# Load your dataset\n",
    "x = data[['Ch1_RMS', 'Ch1_MAV', 'Ch1_ZC', 'Ch2_RMS', 'Ch2_MAV', 'Ch2_ZC','Label']]\n",
    "y = data['Force/Output']\n",
    "\n",
    "# Split dataset\n",
    "x_train, x_test, y_train, y_test = train_test_split(x, y, test_size=0.2, random_state=42)\n",
    "\n",
    "# Normalize data\n",
    "scale = StandardScaler()\n",
    "x_train = scale.fit_transform(x_train)\n",
    "x_test = scale.transform(x_test)"
   ]
  },
  {
   "cell_type": "code",
   "execution_count": 8,
   "id": "04f1d587",
   "metadata": {},
   "outputs": [
    {
     "name": "stdout",
     "output_type": "stream",
     "text": [
      "Optimal Parameters (C, epsilon): [98.63115736  0.55550044]\n",
      "Optimal Mean Squared Error: 6.8181535142947745\n",
      "R² Score: 0.7372742656597191\n",
      "Mean Squared Error: 6.828423890297631\n",
      "Mean Absolute Error: 1.6210131501730165\n"
     ]
    }
   ],
   "source": [
    "# Objective function for SSA (Minimizing MSE)\n",
    "def objective_function(params):\n",
    "    C, epsilon = params\n",
    "    model = SVR(kernel='rbf', C=C, epsilon=epsilon, gamma='auto')\n",
    "    model.fit(x_train, y_train)\n",
    "    predictions = model.predict(x_test)\n",
    "    mse = mean_squared_error(y_test, predictions)\n",
    "    return mse\n",
    "\n",
    "# SSA Algorithm for hyperparameter optimization\n",
    "def SSA(n_spiders=15, max_iter=1,patience=15):\n",
    "    # Define hyperparameter ranges\n",
    "    C_range = (0.1, 100)  # C range\n",
    "    epsilon_range = (0.1, 1)  # epsilon range\n",
    "\n",
    "    # Initialize spiders (hyperparameters)\n",
    "    spiders = np.zeros((n_spiders, 2))\n",
    "    spiders[:, 0] = np.random.uniform(*C_range, n_spiders)  # C values\n",
    "    spiders[:, 1] = np.random.uniform(*epsilon_range, n_spiders)  # epsilon values\n",
    "\n",
    "    best_mse = float('inf')\n",
    "    best_params = None\n",
    "\n",
    "    for iteration in range(max_iter):\n",
    "        for i in range(n_spiders):\n",
    "            mse = objective_function(spiders[i])\n",
    "            if mse < best_mse:\n",
    "                best_mse = mse\n",
    "                best_params = spiders[i]\n",
    "                no_improvement_count = 0  # Reset if improvement occurs\n",
    "            else:\n",
    "                no_improvement_count += 1\n",
    "\n",
    "            # Update spider positions (simplified)\n",
    "            spiders[i] += np.random.uniform(-1, 1)  # Random movement\n",
    "            # Ensure the values stay within defined ranges\n",
    "            spiders[i][0] = np.clip(spiders[i][0], *C_range)\n",
    "            spiders[i][1] = np.clip(spiders[i][1], *epsilon_range)\n",
    "\n",
    "        # Check for early stopping\n",
    "        if no_improvement_count >= patience:\n",
    "            print(f\"Early stopping at iteration {iteration} with best MSE: {best_mse}\")\n",
    "            break\n",
    "\n",
    "    return best_params, best_mse\n",
    "\n",
    "# Run SSA for SVR hyperparameter optimization\n",
    "optimal_params, optimal_mse = SSA()\n",
    "\n",
    "# Output optimal parameters\n",
    "print(f\"Optimal Parameters (C, epsilon): {optimal_params}\")\n",
    "print(f\"Optimal Mean Squared Error: {optimal_mse}\")\n",
    "\n",
    "# Fit SVR model with the optimal parameters\n",
    "final_model = SVR(kernel='rbf', C=optimal_params[0], epsilon=optimal_params[1], gamma='auto')\n",
    "final_model.fit(x_train, y_train)\n",
    "\n",
    "# Predictions and evaluation\n",
    "final_predictions = final_model.predict(x_test)\n",
    "\n",
    "r2 = r2_score(y_test, final_predictions)\n",
    "mse = mean_squared_error(y_test, final_predictions)\n",
    "mae = mean_absolute_error(y_test, final_predictions)\n",
    "\n",
    "# Output results\n",
    "print(f\"R² Score: {r2}\")\n",
    "print(f\"Mean Squared Error: {mse}\")\n",
    "print(f\"Mean Absolute Error: {mae}\")"
   ]
  }
 ],
 "metadata": {
  "kernelspec": {
   "display_name": "Python 3",
   "language": "python",
   "name": "python3"
  },
  "language_info": {
   "codemirror_mode": {
    "name": "ipython",
    "version": 3
   },
   "file_extension": ".py",
   "mimetype": "text/x-python",
   "name": "python",
   "nbconvert_exporter": "python",
   "pygments_lexer": "ipython3",
   "version": "3.12.7"
  }
 },
 "nbformat": 4,
 "nbformat_minor": 5
}
